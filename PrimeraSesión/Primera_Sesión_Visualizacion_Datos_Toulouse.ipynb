{
  "nbformat": 4,
  "nbformat_minor": 0,
  "metadata": {
    "colab": {
      "private_outputs": true,
      "provenance": [],
      "toc_visible": true
    },
    "kernelspec": {
      "name": "python3",
      "display_name": "Python 3"
    },
    "language_info": {
      "name": "python"
    }
  },
  "cells": [
    {
      "cell_type": "markdown",
      "metadata": {
        "id": "0k28FLT3mum8"
      },
      "source": [
        "# Pyplot"
      ]
    },
    {
      "cell_type": "code",
      "execution_count": null,
      "metadata": {
        "id": "kHmY1SI2munm"
      },
      "outputs": [],
      "source": [
        "# Start writing code here...\n",
        "import matplotlib.pyplot as plt\n",
        "import numpy as np\n"
      ]
    },
    {
      "cell_type": "code",
      "execution_count": null,
      "metadata": {
        "id": "5V7LFS8umuoX"
      },
      "outputs": [],
      "source": [
        "x = np.linspace(0,5,11)\n",
        "y = x ** 2"
      ]
    },
    {
      "cell_type": "code",
      "execution_count": null,
      "metadata": {
        "id": "16L_ohQMmuoh"
      },
      "outputs": [],
      "source": [
        "y"
      ]
    },
    {
      "cell_type": "code",
      "execution_count": null,
      "metadata": {
        "id": "8COznXv7muow"
      },
      "outputs": [],
      "source": [
        "plt.plot(x,y)\n",
        "plt.show"
      ]
    },
    {
      "cell_type": "code",
      "execution_count": null,
      "metadata": {
        "id": "g-XPPzXOmuo1"
      },
      "outputs": [],
      "source": [
        "plt.plot(x,y,'rx')\n",
        "plt.show"
      ]
    },
    {
      "cell_type": "code",
      "execution_count": null,
      "metadata": {
        "id": "ub6anu0Cmuo-"
      },
      "outputs": [],
      "source": [
        "plt.plot(x,y,'ro-')\n",
        "plt.show"
      ]
    },
    {
      "cell_type": "code",
      "execution_count": null,
      "metadata": {
        "id": "neOChEygmupD"
      },
      "outputs": [],
      "source": [
        "plt.plot(x,y,'yD:')\n",
        "plt.show"
      ]
    },
    {
      "cell_type": "code",
      "execution_count": null,
      "metadata": {
        "id": "O1YVIn5QmupI"
      },
      "outputs": [],
      "source": [
        "plt.hist(x)\n",
        "plt.show"
      ]
    },
    {
      "cell_type": "code",
      "execution_count": null,
      "metadata": {
        "id": "y-6KnaxGmup3"
      },
      "outputs": [],
      "source": [
        "plt.pie(x)\n",
        "plt.show"
      ]
    },
    {
      "cell_type": "code",
      "execution_count": null,
      "metadata": {
        "id": "b7_era5wmup7"
      },
      "outputs": [],
      "source": [
        "plt.scatter(x,y)\n",
        "plt.show"
      ]
    },
    {
      "cell_type": "code",
      "execution_count": null,
      "metadata": {
        "id": "WtpCPTd7mup-"
      },
      "outputs": [],
      "source": [
        "plt.boxplot(x)\n",
        "plt.show"
      ]
    },
    {
      "cell_type": "code",
      "execution_count": null,
      "metadata": {
        "id": "8KfRRWn0muqB"
      },
      "outputs": [],
      "source": [
        "# Format Strings\n",
        "# character\tdescription\n",
        "# ‘.’\tpoint marker\n",
        "# ‘,’\tpixel marker\n",
        "# ‘o’\tcircle marker\n",
        "# ‘v’\ttriangle_down marker\n",
        "# ‘^’\ttriangle_up marker\n",
        "# ‘<’\ttriangle_left marker\n",
        "# ‘>’\ttriangle_right marker\n",
        "# ‘1’\ttri_down marker\n",
        "# ‘2’\ttri_up marker\n",
        "# ‘3’\ttri_left marker\n",
        "# ‘4’\ttri_right marker\n",
        "# ‘8’\toctagon marker\n",
        "# ‘s’\tsquare marker\n",
        "# ‘p’\tpentagon marker\n",
        "# ‘P’\tplus (filled) marker\n",
        "# ‘*’\tstar marker\n",
        "# ‘h’\thexagon1 marker\n",
        "# ‘H’\thexagon2 marker\n",
        "# ‘+’\tplus marker\n",
        "# ‘x’\tx marker\n",
        "# ‘X’\tx (filled) marker\n",
        "# ‘D’\tdiamond marker\n",
        "# ‘d’\tthin_diamond marker\n",
        "# ‘|’\tvline marker\n",
        "# ‘_’\thline marker\n",
        "# Line Styles\n",
        "# character\tdescription\n",
        "# ‘-’\tsolid line style\n",
        "# ‘–’\tdashed line style\n",
        "# ‘-.’\tdash-dot line style\n",
        "# ‘:’\tdotted line style\n",
        "# Colors\n",
        "# character\tcolor\n",
        "# ‘b’\tblue\n",
        "# ‘g’\tgreen\n",
        "# ‘r’\tred\n",
        "# ‘c’\tcyan\n",
        "# ‘m’\tmagenta\n",
        "# ‘y’\tyellow\n",
        "# ‘k’\tblack\n",
        "# ‘w’\twhite"
      ]
    },
    {
      "cell_type": "markdown",
      "metadata": {
        "id": "lKigChmMmuqP"
      },
      "source": [
        "# SubPlots - Varios Gráficos"
      ]
    },
    {
      "cell_type": "code",
      "execution_count": null,
      "metadata": {
        "id": "K7eQD054muqS"
      },
      "outputs": [],
      "source": [
        "x = np.linspace(0,5,11)\n",
        "y = x ** 2"
      ]
    },
    {
      "cell_type": "code",
      "execution_count": null,
      "metadata": {
        "id": "Ga-NSLBNmuqc"
      },
      "outputs": [],
      "source": [
        "# 1°parametro: numero de filas\n",
        "# 2° parametro: numero de columnas\n",
        "# 3°parametro: indices\n",
        "\n",
        "plt.subplot(1,2,1)\n",
        "plt.plot(x,y,'r:')\n",
        "plt.subplot(1,2,2)\n",
        "plt.hist(y)\n",
        "plt.show()"
      ]
    },
    {
      "cell_type": "code",
      "execution_count": null,
      "metadata": {
        "id": "fydoE8pomuqg"
      },
      "outputs": [],
      "source": [
        "plt.subplot(1,2,1)\n",
        "plt.plot(x,y,'r:')\n",
        "plt.plot(y,x,'b:')\n",
        "plt.subplot(1,2,2)\n",
        "plt.pie(y)\n",
        "plt.show()"
      ]
    },
    {
      "cell_type": "code",
      "execution_count": null,
      "metadata": {
        "id": "5Gpgo5FBmuqm"
      },
      "outputs": [],
      "source": [
        "plt.subplot(2,1,1)\n",
        "plt.plot(x,y,'r:')\n",
        "plt.plot(y,x,'b:')\n",
        "plt.subplot(2,1,2)\n",
        "plt.pie(y)\n",
        "plt.show()"
      ]
    },
    {
      "cell_type": "markdown",
      "metadata": {
        "id": "sKn0fBu4muqr"
      },
      "source": [
        "# Varios Objetos"
      ]
    },
    {
      "cell_type": "code",
      "execution_count": null,
      "metadata": {
        "id": "jNiftyfimurE"
      },
      "outputs": [],
      "source": [
        "import matplotlib.pyplot as plt\n",
        "import numpy as np"
      ]
    },
    {
      "cell_type": "code",
      "execution_count": null,
      "metadata": {
        "id": "9WCRQ7vxmurG"
      },
      "outputs": [],
      "source": [
        "x = np.linspace(0,5,11)\n",
        "y = x ** 2"
      ]
    },
    {
      "cell_type": "code",
      "execution_count": null,
      "metadata": {
        "id": "1SI24NcdmurI"
      },
      "outputs": [],
      "source": [
        "fig = plt.figure()\n",
        "axes = fig.add_axes([0.1,0.1,0.5,0.9])\n",
        "axes.plot(x,y,'b')\n",
        "fig.show()"
      ]
    },
    {
      "cell_type": "code",
      "execution_count": null,
      "metadata": {
        "id": "mbgTapxYmurK"
      },
      "outputs": [],
      "source": [
        "fig = plt.figure()\n",
        "axes = fig.add_axes([0.1,0.1,0.5,0.9]) #DOS PRIMEROS PARAMETROS POSICION O FIGURA EN EL LIENZO\n",
        "axes.plot(x,y,'b')\n",
        "fig.show()"
      ]
    },
    {
      "cell_type": "code",
      "execution_count": null,
      "metadata": {
        "id": "u7ZV_eA9murM"
      },
      "outputs": [],
      "source": [
        "fig = plt.figure()\n",
        "axes = fig.add_axes([0.1,0.1,0.8,0.9])\n",
        "axes2 = fig.add_axes([0.2,0.55,0.4,0.3]) #DOS PRIMEROS PARAMETROS POSICION O FIGURA EN EL LIENZO\n",
        "axes.plot(x,y,'b')\n",
        "axes2.plot(y,x,'r')\n",
        "axes2.set_facecolor('gray')\n",
        "fig.show()"
      ]
    },
    {
      "cell_type": "markdown",
      "metadata": {
        "id": "ppHIU68ImurP"
      },
      "source": [
        "# SubPlots-Orientado a Objetos"
      ]
    },
    {
      "cell_type": "code",
      "execution_count": null,
      "metadata": {
        "id": "At3LUtG4murQ"
      },
      "outputs": [],
      "source": [
        "import matplotlib.pyplot as plt\n",
        "import numpy as np"
      ]
    },
    {
      "cell_type": "code",
      "execution_count": null,
      "metadata": {
        "id": "DN_dhBKRmurQ"
      },
      "outputs": [],
      "source": [
        "x = np.linspace(0,5,11)\n",
        "y = np.sin(x)"
      ]
    },
    {
      "cell_type": "code",
      "execution_count": null,
      "metadata": {
        "id": "WXOAqAnAmurR"
      },
      "outputs": [],
      "source": [
        "fig, axes = plt.subplots()\n",
        "axes.plot(x,y,'b')"
      ]
    },
    {
      "cell_type": "code",
      "execution_count": null,
      "metadata": {
        "id": "Sv_3ElXbmurT"
      },
      "outputs": [],
      "source": [
        "fig, axes = plt.subplots(nrows = 1, ncols = 2)\n",
        "axes[0].plot(x,y,'b')\n",
        "axes[1].plot(y,x,'r')"
      ]
    },
    {
      "cell_type": "code",
      "execution_count": null,
      "metadata": {
        "id": "BWpUVE79murW"
      },
      "outputs": [],
      "source": [
        "fig, (ax1,ax2) = plt.subplots(nrows = 1, ncols = 2)\n",
        "ax1.plot(x,y,'b')\n",
        "ax2.plot(y,x,'r')"
      ]
    },
    {
      "cell_type": "code",
      "execution_count": null,
      "metadata": {
        "id": "2R2sZ_5SmurZ"
      },
      "outputs": [],
      "source": [
        "fig, axes = plt.subplots(nrows = 2, ncols = 4)\n",
        "axes[0,0].plot(x,y,'b')\n",
        "axes[0,1].plot(y,x,'r')\n",
        "axes[0,2].plot(y,np.cos(x),'r')\n",
        "axes[0,3].plot(x,np.tan(x),'r')"
      ]
    },
    {
      "cell_type": "code",
      "execution_count": null,
      "metadata": {
        "id": "B0IX4tmUmurd"
      },
      "outputs": [],
      "source": [
        "fig, ((ax1,ax2,ax3,ax4),(ax5,ax6,ax7,ax8)) = plt.subplots(nrows = 2, ncols = 4)\n",
        "ax1.plot(x,y,'b')\n",
        "ax2.plot(y,x,'r')\n",
        "ax3.plot(y,np.cos(x),'r')\n",
        "ax4.plot(x,np.tan(x),'r')\n",
        "fig.tight_layout() #Arreglamos como se ve el grafico"
      ]
    },
    {
      "cell_type": "markdown",
      "metadata": {
        "id": "LU_cBZUgmurf"
      },
      "source": [
        "# Leyendas, etiquetas, títulos, tamaño"
      ]
    },
    {
      "cell_type": "code",
      "execution_count": null,
      "metadata": {
        "id": "YGKrWU-3murg"
      },
      "outputs": [],
      "source": [
        "import matplotlib.pyplot as plt"
      ]
    },
    {
      "cell_type": "code",
      "execution_count": null,
      "metadata": {
        "id": "9hb3NgXbmurh"
      },
      "outputs": [],
      "source": [
        "import numpy as np"
      ]
    },
    {
      "cell_type": "code",
      "execution_count": null,
      "metadata": {
        "id": "wI7ViQNymuri"
      },
      "outputs": [],
      "source": [
        "x = np.linspace(0,5,11)\n",
        "y = np.sin(x)"
      ]
    },
    {
      "cell_type": "code",
      "execution_count": null,
      "metadata": {
        "id": "Pi-wTlqXmurj"
      },
      "outputs": [],
      "source": [
        "fig, axes = plt.subplots(1,2)\n",
        "axes[0].plot(x,y)\n",
        "axes[1].plot(y,x)"
      ]
    },
    {
      "cell_type": "code",
      "execution_count": null,
      "metadata": {
        "id": "Mm4ZLDWMmurl"
      },
      "outputs": [],
      "source": [
        "fig, axes = plt.subplots(1,2,figsize=(5,5))\n",
        "axes[0].plot(x,y, label = '$sin (x)$')\n",
        "axes[0].set_title('Relacion X - Y')\n",
        "axes[0].set_xlabel('X')\n",
        "axes[0].set_ylabel('Y')\n",
        "axes[0].legend()\n",
        "\n",
        "axes[1].plot(y,x)\n",
        "axes[1].set_title('Relacion Y - X')\n",
        "axes[1].set_xlabel('X')\n",
        "axes[1].set_ylabel('Y')\n",
        "fig.tight_layout()"
      ]
    },
    {
      "cell_type": "code",
      "execution_count": null,
      "metadata": {
        "id": "rbXjl0kmmurm"
      },
      "outputs": [],
      "source": [
        "\n",
        "plt.plot(x,y,label='sin(x)')\n",
        "plt.title('Este es un titulo')\n",
        "plt.xlabel('Esto es la X')\n",
        "plt.ylabel('Esto es la Y')\n",
        "plt.legend(loc = 'lower center',bbox_to_anchor=(1.10,0.2))"
      ]
    },
    {
      "cell_type": "markdown",
      "metadata": {
        "id": "eqAxKQsamurn"
      },
      "source": [
        "# Colores y Estilos"
      ]
    },
    {
      "cell_type": "code",
      "execution_count": null,
      "metadata": {
        "id": "OG5PxuR7murp"
      },
      "outputs": [],
      "source": [
        "import matplotlib.pyplot as plt\n",
        "import numpy as np\n"
      ]
    },
    {
      "cell_type": "code",
      "execution_count": null,
      "metadata": {
        "id": "Uggk4-6rmur8"
      },
      "outputs": [],
      "source": [
        "x = np.linspace(0,5,11)\n"
      ]
    },
    {
      "cell_type": "code",
      "execution_count": null,
      "metadata": {
        "id": "zlXDElbamur9"
      },
      "outputs": [],
      "source": [
        "print(plt.style.available)"
      ]
    },
    {
      "cell_type": "code",
      "execution_count": null,
      "metadata": {
        "id": "KIKYv38Fmur-"
      },
      "outputs": [],
      "source": [
        "plt.style.use('tableau-colorblind10')"
      ]
    },
    {
      "cell_type": "markdown",
      "metadata": {
        "id": "zQng3N1GmusA"
      },
      "source": [
        "## Modificaciones Matlab"
      ]
    },
    {
      "cell_type": "code",
      "execution_count": null,
      "metadata": {
        "id": "MR5pVaJ6musE"
      },
      "outputs": [],
      "source": [
        "fig, ax = plt.subplots(figsize=(8,8))\n",
        "ax.plot(x,x+1,'r--')\n",
        "ax.plot(x,x+2,'b-')\n",
        "ax.plot(x,x+3,'y.-')\n",
        "ax.plot(x,x+4,'g:')\n"
      ]
    },
    {
      "cell_type": "markdown",
      "metadata": {
        "id": "onTDpACEmusF"
      },
      "source": [
        "## Pyplot"
      ]
    },
    {
      "cell_type": "code",
      "execution_count": null,
      "metadata": {
        "id": "EPaVxYMrmusG"
      },
      "outputs": [],
      "source": [
        "fig, ax = plt.subplots(figsize=(8,8))\n",
        "ax.plot(x,x+1,color='green', alpha=0.8, linestyle = '-', marker='o', markersize=10)\n",
        "ax.plot(x,x+2,color='blue', alpha=0.1, linestyle = '--',marker='8', markersize=10)\n",
        "ax.plot(x,x+3,color='#66FF66', linewidth = 8, linestyle = 'dashed', marker='v', markersize=2)\n",
        "ax.plot(x,x+4,color='#CCFFCC', linewidth = 3, linestyle = ':', marker='P', markersize=5)"
      ]
    },
    {
      "cell_type": "markdown",
      "metadata": {
        "id": "GyB2nU_KmusH"
      },
      "source": [
        "## Bar Plot"
      ]
    },
    {
      "cell_type": "code",
      "execution_count": null,
      "metadata": {
        "id": "fOiq-50DmusH"
      },
      "outputs": [],
      "source": [
        "country = ['India','Japon','Mexico','Colombia','Perú']\n",
        "population = [1000,800,900,1000,800]"
      ]
    },
    {
      "cell_type": "code",
      "execution_count": null,
      "metadata": {
        "id": "_EvUSKyvmusI"
      },
      "outputs": [],
      "source": [
        "plt.style.use('classic')"
      ]
    },
    {
      "cell_type": "code",
      "execution_count": null,
      "metadata": {
        "id": "J5C6mRlumusJ"
      },
      "outputs": [],
      "source": [
        "plt.bar(country,population,width=0.5,color=['red','blue'])\n",
        "plt.xticks(np.arange(5), ('INDIA','JAPON','MEXICO','COLOMBIA','PERU'))\n",
        "plt.show"
      ]
    },
    {
      "cell_type": "code",
      "execution_count": null,
      "metadata": {
        "id": "UEoe-Un0musK"
      },
      "outputs": [],
      "source": [
        "plt.bar(country,population,width=0.5,color=['red','blue'])\n",
        "plt.xticks(np.arange(5), ('INDIA','JAPON','MEXICO','COLOMBIA','PERU'),rotation=56)\n",
        "plt.show"
      ]
    },
    {
      "cell_type": "code",
      "execution_count": null,
      "metadata": {
        "id": "D7rqAcTUmusL"
      },
      "outputs": [],
      "source": [
        "#Ahora ustedes, coloquenle titulo y denle mas contexto a este grafico"
      ]
    },
    {
      "cell_type": "code",
      "execution_count": null,
      "metadata": {
        "id": "R8BCfRv7musM"
      },
      "outputs": [],
      "source": [
        "plt.barh(country,population)\n",
        "plt.show()"
      ]
    },
    {
      "cell_type": "markdown",
      "metadata": {
        "id": "tMyoEFaSmusb"
      },
      "source": [
        "## Histograma"
      ]
    },
    {
      "cell_type": "code",
      "execution_count": null,
      "metadata": {
        "id": "FgNkKYyqmusf"
      },
      "outputs": [],
      "source": [
        "data = np.random.randint(1,15,1000)"
      ]
    },
    {
      "cell_type": "code",
      "execution_count": null,
      "metadata": {
        "id": "2Eh66v3Dmusj"
      },
      "outputs": [],
      "source": [
        "plt.hist(data,bins=10)\n",
        "plt.show()"
      ]
    },
    {
      "cell_type": "code",
      "execution_count": null,
      "metadata": {
        "id": "1APv3QYSmusk"
      },
      "outputs": [],
      "source": [
        "plt.hist(data,bins=10,histtype='step')\n",
        "plt.show()"
      ]
    },
    {
      "cell_type": "markdown",
      "metadata": {
        "id": "GTsN2H5tmusl"
      },
      "source": [
        "## BoxPlot"
      ]
    },
    {
      "cell_type": "markdown",
      "metadata": {
        "id": "VVEk1rlAmusm"
      },
      "source": [
        "El grafico que vimos la otra vez"
      ]
    },
    {
      "cell_type": "code",
      "execution_count": null,
      "metadata": {
        "id": "SnHMBn2Umusm"
      },
      "outputs": [],
      "source": [
        "plt.boxplot(data)\n",
        "plt.show()"
      ]
    },
    {
      "cell_type": "code",
      "execution_count": null,
      "metadata": {
        "id": "OoOSLaNlmusn"
      },
      "outputs": [],
      "source": [
        "plt.boxplot(data,vert=False,notch=True)\n",
        "plt.show()"
      ]
    },
    {
      "cell_type": "code",
      "execution_count": null,
      "metadata": {
        "id": "HInW6agHmuso"
      },
      "outputs": [],
      "source": [
        "%matplotlib inline"
      ]
    },
    {
      "cell_type": "code",
      "execution_count": null,
      "metadata": {
        "id": "cNOMWQSPmusq"
      },
      "outputs": [],
      "source": [
        "data= np.append(data,25)"
      ]
    },
    {
      "cell_type": "code",
      "execution_count": null,
      "metadata": {
        "id": "_EUsAsb1musr"
      },
      "outputs": [],
      "source": [
        "plt.boxplot(data,vert=False,notch=True,showfliers=False)\n",
        "plt.show()"
      ]
    },
    {
      "cell_type": "markdown",
      "source": [
        "# Ejercicio"
      ],
      "metadata": {
        "id": "5_S177Bc1lB8"
      }
    },
    {
      "cell_type": "markdown",
      "source": [
        "\n",
        "\n",
        "\n",
        "\n",
        "1.   Alcohol: Contenido de alcohol en el vino.\n",
        "2.   Malic Acid: Contenido de ácido málico en el vino.\n",
        "3.   Ash: Cantidad de ceniza en el vino.\n",
        "4.   Alcalinity of Ash: Alcalinidad de la ceniza en el vino.\n",
        "5.   Magnesium: Cantidad de magnesio en el vino.\n",
        "6.   Total Phenols: Cantidad total de fenoles en el vino.\n",
        "7.   Flavanoids: Contenido de flavonoides en el vino.\n",
        "8.   Nonflavanoid Phenols: Cantidad de fenoles no flavonoides en el vino.\n",
        "9.   Proanthocyanins: Contenido de proantocianidinas en el vino.\n",
        "10. Color Intensity: Intensidad del color del vino.\n",
        "11.  Hue: Tono del vino.\n",
        "12.  OD280/OD315 of Diluted Wines: Absorbancia óptica a 280/315 nm de vinos diluidos.\n",
        "13.  Proline: Contenido de proline (un tipo de aminoácido) en el vino.\n",
        "\n",
        "\n",
        "\n",
        "\n",
        "\n",
        "\n",
        "\n",
        "\n",
        "\n"
      ],
      "metadata": {
        "id": "egRlz1TV2fKD"
      }
    },
    {
      "cell_type": "code",
      "source": [
        "import pandas as pd\n",
        "import matplotlib.pyplot as plt\n",
        "from sklearn.datasets import load_wine\n",
        "\n",
        "# Cargar el conjunto de datos Wine\n",
        "wine = load_wine()\n",
        "data = wine.data\n",
        "target = wine.target\n",
        "\n",
        "# Crear un DataFrame usando pandas\n",
        "df = pd.DataFrame(data, columns=wine.feature_names)\n",
        "df['target'] = target\n",
        "\n",
        "# Visualización simple usando Matplotlib\n",
        "plt.figure(figsize=(12, 6))\n",
        "\n",
        "# Scatter plot de dos características (ajusta según tus necesidades)\n",
        "plt.scatter(df['alcohol'], df['flavanoids'], c=df['target'], cmap='viridis', alpha=0.7, edgecolors='w', linewidth=0.5)\n",
        "\n",
        "plt.title('Scatter Plot - Alcohol vs Flavanoids')\n",
        "plt.xlabel('Contenido de Alcohol')\n",
        "plt.ylabel('Contenido de Flavanoids')\n",
        "plt.grid(True)\n",
        "plt.show()\n"
      ],
      "metadata": {
        "id": "_5ZAwBBB1mJx"
      },
      "execution_count": null,
      "outputs": []
    },
    {
      "cell_type": "code",
      "source": [
        "import pandas as pd\n",
        "from sklearn.datasets import load_wine\n",
        "\n",
        "# Cargar el conjunto de datos Wine\n",
        "wine = load_wine()\n",
        "data = wine.data\n",
        "target = wine.target\n",
        "\n",
        "# Crear un DataFrame usando pandas con nombres de columnas descriptivos\n",
        "column_names = ['Alcohol', 'Malic Acid', 'Ash', 'Alcalinity of Ash', 'Magnesium', 'Total Phenols',\n",
        "                'Flavanoids', 'Nonflavanoid Phenols', 'Proanthocyanins', 'Color Intensity',\n",
        "                'Hue', 'OD280/OD315 of Diluted Wines', 'Proline']\n",
        "\n",
        "df = pd.DataFrame(data, columns=column_names)\n",
        "df['Wine Class'] = target\n",
        "\n",
        "# Mostrar información básica sobre el conjunto de datos\n",
        "info = df.info()\n",
        "\n",
        "info\n"
      ],
      "metadata": {
        "id": "Q520jSYA1mkm"
      },
      "execution_count": null,
      "outputs": []
    },
    {
      "cell_type": "code",
      "source": [
        "# Resumen estadístico\n",
        "summary_stats = df.describe()\n",
        "summary_stats\n"
      ],
      "metadata": {
        "id": "qgFD_rQr2AXt"
      },
      "execution_count": null,
      "outputs": []
    },
    {
      "cell_type": "code",
      "source": [
        "target_counts = df['Wine Class'].value_counts()\n",
        "target_counts"
      ],
      "metadata": {
        "id": "N_dMGEP82ZAk"
      },
      "execution_count": null,
      "outputs": []
    },
    {
      "cell_type": "code",
      "source": [
        "correlation_matrix = df.corr()"
      ],
      "metadata": {
        "id": "LRlJXx3N3BYF"
      },
      "execution_count": null,
      "outputs": []
    },
    {
      "cell_type": "code",
      "source": [
        "correlation_matrix"
      ],
      "metadata": {
        "id": "FmnuhXM13GXc"
      },
      "execution_count": null,
      "outputs": []
    },
    {
      "cell_type": "code",
      "source": [
        "# Crear un gráfico de matriz de correlación con Matplotlib\n",
        "plt.figure(figsize=(12, 8))\n",
        "plt.imshow(correlation_matrix, cmap='viridis', interpolation='none', aspect='auto')\n",
        "plt.colorbar()\n",
        "\n",
        "# Establecer etiquetas de los ejes\n",
        "plt.xticks(range(len(column_names)), column_names, rotation=90)\n",
        "plt.yticks(range(len(column_names)), column_names)\n",
        "plt.title('Matriz de Correlación')\n",
        "\n",
        "plt.show()"
      ],
      "metadata": {
        "id": "Q12kcGyQ3H61"
      },
      "execution_count": null,
      "outputs": []
    },
    {
      "cell_type": "code",
      "source": [
        "# Histogramas para cada característica\n",
        "df.hist(bins=20, figsize=(15, 12))\n",
        "plt.suptitle('Histogramas de Características', y=1.02)\n",
        "plt.show()"
      ],
      "metadata": {
        "id": "9vtBimaR3TzP"
      },
      "execution_count": null,
      "outputs": []
    },
    {
      "cell_type": "code",
      "source": [
        "pd.plotting.scatter_matrix(df.iloc[:, :4], c=df['Wine Class'], figsize=(15, 15), marker='o', hist_kwds={'bins': 20}, s=40, alpha=0.8, cmap='viridis')\n",
        "plt.suptitle('Diagrama de Dispersión de Pares de Características', y=0.92)\n",
        "plt.show()"
      ],
      "metadata": {
        "id": "viQ09xTq3s-L"
      },
      "execution_count": null,
      "outputs": []
    },
    {
      "cell_type": "code",
      "source": [
        "import matplotlib.gridspec as gridspec\n",
        "\n",
        "selected_features = ['Alcohol', 'Flavanoids', 'Color Intensity', 'Proline']\n",
        "fig = plt.figure(figsize=(12, 10))\n",
        "gs = gridspec.GridSpec(2, 2, width_ratios=[1, 1], height_ratios=[1, 1])\n",
        "\n",
        "for i, feature in enumerate(selected_features):\n",
        "    ax = plt.subplot(gs[i])\n",
        "    for class_label in df['Wine Class'].unique():\n",
        "        data_class = df[df['Wine Class'] == class_label][feature]\n",
        "        ax.boxplot(data_class, positions=[class_label], widths=0.6, patch_artist=True, boxprops=dict(facecolor=plt.cm.viridis(class_label / 2)))\n",
        "    ax.set_xticks(df['Wine Class'].unique())\n",
        "    ax.set_xticklabels(['Class 1', 'Class 2', 'Class 3'])\n",
        "    ax.set_title(feature)\n",
        "    ax.set_ylabel(feature)\n",
        "\n",
        "plt.suptitle('Boxplots por Clase para Características Seleccionadas', y=0.92)\n",
        "plt.tight_layout(rect=[0, 0, 1, 0.96])\n",
        "plt.show()"
      ],
      "metadata": {
        "id": "Mh4zUKjs32A7"
      },
      "execution_count": null,
      "outputs": []
    }
  ]
}